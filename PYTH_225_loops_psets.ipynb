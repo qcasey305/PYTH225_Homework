{
  "nbformat": 4,
  "nbformat_minor": 0,
  "metadata": {
    "colab": {
      "name": "PYTH 225_loops psets.ipynb",
      "provenance": [],
      "collapsed_sections": [
        "uVRP-haTUEUp",
        "qujIvC8iUFsS",
        "NZoDldAJT-ZZ",
        "JiG0W3n3T-Ze",
        "337FvlPKUNqp",
        "aeUUzlj2T-Z5",
        "DGA_yKgt7KuB",
        "34_iw8-4T-Zl",
        "XQbSY6kYT-Zo",
        "HvXqnAyuT-Z8",
        "OU_s6uQgUQf-",
        "FSN_Wqyf8UnQ",
        "kE68tEQnT-aE",
        "I-A5Y-oo8Una",
        "wtaxsnSST-aH",
        "l7AOi4Xa8Une",
        "pCsSUlIBT-aK"
      ],
      "include_colab_link": true
    },
    "kernelspec": {
      "name": "python3",
      "display_name": "Python 3"
    }
  },
  "cells": [
    {
      "cell_type": "markdown",
      "metadata": {
        "id": "view-in-github",
        "colab_type": "text"
      },
      "source": [
        "<a href=\"https://colab.research.google.com/github/qcasey305/PYTH225_Homework/blob/master/PYTH_225_loops_psets.ipynb\" target=\"_parent\"><img src=\"https://colab.research.google.com/assets/colab-badge.svg\" alt=\"Open In Colab\"/></a>"
      ]
    },
    {
      "cell_type": "markdown",
      "metadata": {
        "id": "rvLI0ikiT-ZV",
        "colab_type": "text"
      },
      "source": [
        "#  LOOPS"
      ]
    },
    {
      "cell_type": "markdown",
      "metadata": {
        "id": "uVRP-haTUEUp",
        "colab_type": "text"
      },
      "source": [
        "## BASICS"
      ]
    },
    {
      "cell_type": "markdown",
      "metadata": {
        "id": "qujIvC8iUFsS",
        "colab_type": "text"
      },
      "source": [
        "### P1.PY"
      ]
    },
    {
      "cell_type": "code",
      "metadata": {
        "id": "RiZnK5MMT-ZW",
        "colab_type": "code",
        "outputId": "f25d36c2-330a-437b-f616-fa382caf9ac4",
        "colab": {
          "base_uri": "https://localhost:8080/",
          "height": 51
        }
      },
      "source": [
        "\"\"\"\n",
        "Odds & Evens\n",
        "\"\"\"\n",
        "\n",
        "# Use a loop to make a list of all odd numbers between 1 and 10 and another list with all the evens. When done, print the lists.\n",
        "odds = []\n",
        "\n",
        "for num in range (1,11):\n",
        "  if num % 2 != 0:\n",
        "    odds.append(num)\n",
        "print(odds)\n",
        "\n",
        "evens = []\n",
        "\n",
        "for num in range (1,11):\n",
        "  if num % 2 == 0:\n",
        "    evens.append(num)\n",
        "print(evens)\n",
        "\n"
      ],
      "execution_count": 0,
      "outputs": [
        {
          "output_type": "stream",
          "text": [
            "[1, 3, 5, 7, 9]\n",
            "[2, 4, 6, 8, 10]\n"
          ],
          "name": "stdout"
        }
      ]
    },
    {
      "cell_type": "markdown",
      "metadata": {
        "id": "NZoDldAJT-ZZ",
        "colab_type": "text"
      },
      "source": [
        "\n",
        "\n",
        "### P2.PY\n",
        "\n",
        "\n"
      ]
    },
    {
      "cell_type": "code",
      "metadata": {
        "id": "6BxOPOuET-Za",
        "colab_type": "code",
        "outputId": "2d367c17-16d5-4622-c7d8-d40bd4a8f1bc",
        "colab": {
          "base_uri": "https://localhost:8080/",
          "height": 68
        }
      },
      "source": [
        "\"\"\"\n",
        "Lists with Duplicates\n",
        "\"\"\"\n",
        "\n",
        "# First, print list a below as it is now.\n",
        "\n",
        "a = [2, 4, 10, 20, 5, 2, 20, 4]\n",
        "b = [13, 2, 25, 20, 4, 8]\n",
        "print(a)\n",
        "# Using a loop, remove the duplicate items from list a and print out the updated list.\n",
        "\n",
        "a2 = []\n",
        "for num in a:\n",
        "  if num not in a2:\n",
        "    a2.append(num)\n",
        "print(a2)\n",
        "\n",
        "\n",
        "# Using a loop, merge list b into list a without adding any duplicates.\n",
        "\n",
        "\n",
        "for num in b:\n",
        "  if num not in a2:\n",
        "    a2.append(num)\n",
        "print(a2)"
      ],
      "execution_count": 0,
      "outputs": [
        {
          "output_type": "stream",
          "text": [
            "[2, 4, 10, 20, 5, 2, 20, 4]\n",
            "[2, 4, 10, 20, 5]\n",
            "[2, 4, 10, 20, 5, 13, 25, 8]\n"
          ],
          "name": "stdout"
        }
      ]
    },
    {
      "cell_type": "markdown",
      "metadata": {
        "id": "JiG0W3n3T-Ze",
        "colab_type": "text"
      },
      "source": [
        "\n",
        "\n",
        "### P3.PY\n",
        "\n",
        "\n"
      ]
    },
    {
      "cell_type": "code",
      "metadata": {
        "id": "PZY5tAw4T-Zf",
        "colab_type": "code",
        "outputId": "a88d4456-62c0-495f-908a-ac19bbb2e38e",
        "colab": {
          "base_uri": "https://localhost:8080/",
          "height": 34
        }
      },
      "source": [
        "\"\"\"\n",
        "Temperature Conversions\n",
        "\"\"\"\n",
        "\n",
        "# You're studying climate change, and over the last 3 years, you've recorded the temperature at noon every day in degrees Fahrenheit (F). The var sampleF holds a portion of those recordings. \n",
        "\n",
        "sampleF = [71.6, 82.4, 91.4, 107.6, 125.6]\n",
        "\n",
        "# Convert each item in this list into degrees Celsius and add the results to a dict called sample_temps so that the conversion of each day's temperature is easily accessible. For reference, the conversion equation between F and C is:\n",
        "# Celsius = (Fahrenheit - 32) * 5.0/9.0\n",
        "\n",
        "sample_temps = []\n",
        "for temp in sampleF:\n",
        "  sample_temps.append((temp -32)*5.0/9.0)\n",
        "print(sample_temps)\n"
      ],
      "execution_count": 0,
      "outputs": [
        {
          "output_type": "stream",
          "text": [
            "[21.999999999999996, 28.000000000000004, 33.0, 42.0, 52.0]\n"
          ],
          "name": "stdout"
        }
      ]
    },
    {
      "cell_type": "markdown",
      "metadata": {
        "id": "337FvlPKUNqp",
        "colab_type": "text"
      },
      "source": [
        "### P4.PY"
      ]
    },
    {
      "cell_type": "code",
      "metadata": {
        "id": "00D_V8BnT-Z2",
        "colab_type": "code",
        "colab": {
          "base_uri": "https://localhost:8080/",
          "height": 136
        },
        "outputId": "99bddf2d-7091-482e-f53e-23c244825604"
      },
      "source": [
        "\"\"\"\n",
        "Control Flow - I\n",
        "\n",
        "Print the numbers in some range until you find a multiple of 7. \n",
        "At that point, print \"___ is the first multiple of 7 in this \n",
        "range.\" If the range does NOT include any multiples of 7, after \n",
        "you've printed the last number in the range, print \"There are \n",
        "no multiples of 7 in this range.\n",
        "\"\"\"\n",
        "for i in range (100,200):\n",
        "  print(i)\n",
        "  if i % 7 == 0:\n",
        "    print (i, \"is the first multiple of 7 in this range.\")\n",
        "    break\n",
        "else:\n",
        "    print('There are no multiples of 7 in this range.')\n"
      ],
      "execution_count": 9,
      "outputs": [
        {
          "output_type": "stream",
          "text": [
            "100\n",
            "101\n",
            "102\n",
            "103\n",
            "104\n",
            "105\n",
            "105 is the first multiple of 7 in this range.\n"
          ],
          "name": "stdout"
        }
      ]
    },
    {
      "cell_type": "markdown",
      "metadata": {
        "id": "aeUUzlj2T-Z5",
        "colab_type": "text"
      },
      "source": [
        "\n",
        "\n",
        "### P5.PY\n",
        "\n",
        "\n"
      ]
    },
    {
      "cell_type": "code",
      "metadata": {
        "id": "BXM9shfoT-Z5",
        "colab_type": "code",
        "colab": {
          "base_uri": "https://localhost:8080/",
          "height": 85
        },
        "outputId": "4e0840f0-ff94-44a1-9567-4b0504b6e8eb"
      },
      "source": [
        "\"\"\"\n",
        "Control Flow II\n",
        "\n",
        "Write a Python program that prints all the numbers from \n",
        "0 to 6 except 3 and 6. Note: Use a 'continue' statement. \n",
        "\"\"\"\n",
        "for i in range (0,6):\n",
        "  if i % 3 == 0:\n",
        "    continue\n",
        "  print(i)\n"
      ],
      "execution_count": 17,
      "outputs": [
        {
          "output_type": "stream",
          "text": [
            "1\n",
            "2\n",
            "4\n",
            "5\n"
          ],
          "name": "stdout"
        }
      ]
    },
    {
      "cell_type": "markdown",
      "metadata": {
        "id": "DGA_yKgt7KuB",
        "colab_type": "text"
      },
      "source": [
        "## FACTORS"
      ]
    },
    {
      "cell_type": "markdown",
      "metadata": {
        "id": "1WCBfmzxT-Zi",
        "colab_type": "text"
      },
      "source": [
        "\n",
        "\n",
        "### P1.PY\n",
        "\n",
        "\n"
      ]
    },
    {
      "cell_type": "code",
      "metadata": {
        "id": "D3n41TY3T-Zi",
        "colab_type": "code",
        "outputId": "c408f886-14b5-4720-94af-b1027ab7ba3c",
        "colab": {
          "base_uri": "https://localhost:8080/",
          "height": 51
        }
      },
      "source": [
        "\"\"\"\n",
        "Factorial\n",
        "\"\"\"\n",
        "\n",
        "# Find the factorial of a number input by a user. Then print out the factors within the factorial and then print out the actual numeric answer. Hint: The formula for a factorial is n! = (n-1)*n.\n",
        "\n",
        "\n",
        "# Example output:\n",
        "\"\"\"\n",
        "8! = 8*7*6*5*4*3*2*1\n",
        "8! = 40320\n",
        "\"\"\"\n",
        "\n",
        "user_input = input('Enter a number to find its factorial: ')\n",
        "num = int(user_input)\n",
        "product = 1\n",
        "for i in range (1, num +1):\n",
        "  product = product * i\n",
        "print(product)\n"
      ],
      "execution_count": 0,
      "outputs": [
        {
          "output_type": "stream",
          "text": [
            "Enter a number to find its factorial: 8\n",
            "40320\n"
          ],
          "name": "stdout"
        }
      ]
    },
    {
      "cell_type": "markdown",
      "metadata": {
        "id": "34_iw8-4T-Zl",
        "colab_type": "text"
      },
      "source": [
        "\n",
        "\n",
        "### P2.PY\n",
        "\n",
        "\n"
      ]
    },
    {
      "cell_type": "code",
      "metadata": {
        "id": "EnPbAafST-Zm",
        "colab_type": "code",
        "colab": {
          "base_uri": "https://localhost:8080/",
          "height": 136
        },
        "outputId": "154c85d2-7b02-45de-a339-b688d680a46b"
      },
      "source": [
        "\"\"\"\n",
        "Factors\n",
        "\"\"\"\n",
        "\n",
        "# Find all factors of a number that a user inputs and print out 'The factors of <the_user_input_number> are: '.\n",
        "\n",
        "user_input = input('Enter a number to find its factors: ')\n",
        "num = int(user_input)\n",
        "\n",
        "for i in range(1, num + 1):\n",
        "  if num % i == 0:\n",
        "    print(i)\n",
        "\n"
      ],
      "execution_count": 19,
      "outputs": [
        {
          "output_type": "stream",
          "text": [
            "Enter a number to find its factors: 12\n",
            "1\n",
            "2\n",
            "3\n",
            "4\n",
            "6\n",
            "12\n"
          ],
          "name": "stdout"
        }
      ]
    },
    {
      "cell_type": "markdown",
      "metadata": {
        "id": "XQbSY6kYT-Zo",
        "colab_type": "text"
      },
      "source": [
        "\n",
        "\n",
        "### P3.PY\n",
        "\n",
        "\n"
      ]
    },
    {
      "cell_type": "code",
      "metadata": {
        "id": "YFYeCVqWT-Zp",
        "colab_type": "code",
        "outputId": "2f5004fb-b339-4826-953b-692b3e3ec54b",
        "colab": {
          "base_uri": "https://localhost:8080/",
          "height": 119
        }
      },
      "source": [
        "\"\"\"\n",
        "GCD\n",
        "\"\"\"\n",
        "\n",
        "# Find the greatest common denominator (GCD) of two number input by a user. Then print out 'The GCD of <first number> and <second number> is <your result>.'\n",
        "\n",
        "print('Enter two numbers to find their greatest common denominator.')\n",
        "\n",
        "user_input1 = input('First number: ')\n",
        "user_input2 = input('Second number: ')\n",
        "\n",
        "num_1 = int(user_input1)\n",
        "num_2 = int(user_input2)\n",
        "\n",
        "\n",
        "factors_num1 =[]\n",
        "\n",
        "for i in range(1, num_1+1):\n",
        "  if num_1 % i == 0:\n",
        "    factors_num1.append(i)\n",
        "print(factors_num1)\n",
        "\n",
        "\n",
        "factors_num2 = []\n",
        "\n",
        "for i in range(1, num_2+1):\n",
        "  if num_2 % i == 0:\n",
        "    factors_num2.append(i)\n",
        "print(factors_num2)\n",
        "\n",
        "set_1 = set(factors_num1)\n",
        "set_2 = set(factors_num2)\n",
        "\n",
        "#print(set_a, set_b)\n",
        "intersect = set_1.intersection(set_2)\n",
        "print(list(intersect).pop())\n",
        "#pop here will remove from the end then return that value, but the original list is changed (removes that value) to keep that list in tact, use [-1] \n",
        "list_intersect = sorted(list(intersect))\n",
        "\n",
        "# → convert set to list then sort immediately to find largest one, then 'pop' it!"
      ],
      "execution_count": 22,
      "outputs": [
        {
          "output_type": "stream",
          "text": [
            "Enter two numbers to find their greatest common denominator.\n",
            "First number: 45\n",
            "Second number: 60\n",
            "[1, 3, 5, 9, 15, 45]\n",
            "[1, 2, 3, 4, 5, 6, 10, 12, 15, 20, 30, 60]\n",
            "15\n"
          ],
          "name": "stdout"
        }
      ]
    },
    {
      "cell_type": "code",
      "metadata": {
        "id": "1OG7102Cyv0K",
        "colab_type": "code",
        "outputId": "85b93846-c585-4b63-8f9c-2d7284430670",
        "colab": {
          "base_uri": "https://localhost:8080/",
          "height": 269
        }
      },
      "source": [
        "a = 15\n",
        "b = 12\n",
        "\n",
        "factors_a = []\n",
        "import math\n",
        "for i in range (1, math.sqrt(a)+1):\n",
        "    if a % i == 0:\n",
        "      factors_a.append(i)\n",
        "      factors_a.append(a/i)\n",
        "factors_b =[]\n",
        "for j in range (1, math.sqrt(b)+1):\n",
        "    if a % i == 0:\n",
        "      factors_a.append(j)\n",
        "      factors_a.append(b/i)\n",
        "\n",
        "print(set_a, set_b)\n",
        "intersect = set_b.intersection(set_a)\n",
        "print(list(intersect).pop())\n",
        "#pop here will remove from the end then return that value, but the original list is changed (removes that value) to keep that list in tact, use [-1] \n",
        "list_intersect = sorted(list(intersect))"
      ],
      "execution_count": 0,
      "outputs": [
        {
          "output_type": "stream",
          "text": [
            "ERROR! Session/line number was not unique in database. History logging moved to new session 60\n"
          ],
          "name": "stdout"
        },
        {
          "output_type": "error",
          "ename": "TypeError",
          "evalue": "ignored",
          "traceback": [
            "\u001b[0;31m---------------------------------------------------------------------------\u001b[0m",
            "\u001b[0;31mTypeError\u001b[0m                                 Traceback (most recent call last)",
            "\u001b[0;32m<ipython-input-15-c3e426d5c5f3>\u001b[0m in \u001b[0;36m<module>\u001b[0;34m()\u001b[0m\n\u001b[1;32m      1\u001b[0m \u001b[0mfactors_a\u001b[0m \u001b[0;34m=\u001b[0m \u001b[0;34m[\u001b[0m\u001b[0;34m]\u001b[0m\u001b[0;34m\u001b[0m\u001b[0;34m\u001b[0m\u001b[0m\n\u001b[1;32m      2\u001b[0m \u001b[0;32mimport\u001b[0m \u001b[0mmath\u001b[0m\u001b[0;34m\u001b[0m\u001b[0;34m\u001b[0m\u001b[0m\n\u001b[0;32m----> 3\u001b[0;31m \u001b[0;32mfor\u001b[0m \u001b[0mi\u001b[0m \u001b[0;32min\u001b[0m \u001b[0mrange\u001b[0m \u001b[0;34m(\u001b[0m\u001b[0;36m1\u001b[0m\u001b[0;34m,\u001b[0m \u001b[0mmath\u001b[0m\u001b[0;34m.\u001b[0m\u001b[0msqrt\u001b[0m\u001b[0;34m(\u001b[0m\u001b[0ma\u001b[0m\u001b[0;34m)\u001b[0m\u001b[0;34m+\u001b[0m\u001b[0;36m1\u001b[0m\u001b[0;34m)\u001b[0m\u001b[0;34m:\u001b[0m\u001b[0;34m\u001b[0m\u001b[0;34m\u001b[0m\u001b[0m\n\u001b[0m\u001b[1;32m      4\u001b[0m     \u001b[0;32mif\u001b[0m \u001b[0ma\u001b[0m \u001b[0;34m%\u001b[0m \u001b[0mi\u001b[0m \u001b[0;34m==\u001b[0m \u001b[0;36m0\u001b[0m\u001b[0;34m:\u001b[0m\u001b[0;34m\u001b[0m\u001b[0;34m\u001b[0m\u001b[0m\n\u001b[1;32m      5\u001b[0m       \u001b[0mfactors_a\u001b[0m\u001b[0;34m.\u001b[0m\u001b[0mappend\u001b[0m\u001b[0;34m(\u001b[0m\u001b[0mi\u001b[0m\u001b[0;34m)\u001b[0m\u001b[0;34m\u001b[0m\u001b[0;34m\u001b[0m\u001b[0m\n",
            "\u001b[0;31mTypeError\u001b[0m: 'float' object cannot be interpreted as an integer"
          ]
        }
      ]
    },
    {
      "cell_type": "markdown",
      "metadata": {
        "id": "HvXqnAyuT-Z8",
        "colab_type": "text"
      },
      "source": [
        "## SHAPES\n",
        "\n",
        "\n"
      ]
    },
    {
      "cell_type": "markdown",
      "metadata": {
        "id": "OU_s6uQgUQf-",
        "colab_type": "text"
      },
      "source": [
        "### P1.PY"
      ]
    },
    {
      "cell_type": "code",
      "metadata": {
        "id": "ruFtcQasT-Z9",
        "colab_type": "code",
        "colab": {}
      },
      "source": [
        "\"\"\"\n",
        "Build a Triangle I \n",
        "\n",
        "Use a FOR loop to print a triangle of stars that looks like this:\n",
        "\n",
        "*\n",
        "**\n",
        "***\n",
        "****\n",
        "*****\n",
        "\n",
        "\"\"\"\n",
        "\n"
      ],
      "execution_count": 0,
      "outputs": []
    },
    {
      "cell_type": "markdown",
      "metadata": {
        "colab_type": "text",
        "id": "FSN_Wqyf8UnQ"
      },
      "source": [
        "### P2.PY"
      ]
    },
    {
      "cell_type": "code",
      "metadata": {
        "colab_type": "code",
        "id": "6oJisy5A8UnV",
        "colab": {}
      },
      "source": [
        "\"\"\"\n",
        "Build a Triangle II\n",
        "\n",
        "Use a WHILE loop to print a triangle of stars that looks like this:\n",
        "\n",
        "*\n",
        "**\n",
        "***\n",
        "****\n",
        "*****\n",
        "\n",
        "\"\"\""
      ],
      "execution_count": 0,
      "outputs": []
    },
    {
      "cell_type": "markdown",
      "metadata": {
        "id": "kE68tEQnT-aE",
        "colab_type": "text"
      },
      "source": [
        "\n",
        "\n",
        "### P3.PY\n",
        "\n",
        "\n"
      ]
    },
    {
      "cell_type": "code",
      "metadata": {
        "id": "n2pxG5J6T-aF",
        "colab_type": "code",
        "colab": {}
      },
      "source": [
        "\"\"\"\n",
        "Build a Pyramid I\n",
        "\n",
        "Use a FOR loop to print a pyramid of stars that looks like this:\n",
        "\n",
        "    *\n",
        "   ***\n",
        "  *****\n",
        " *******\n",
        "*********\n",
        "\n",
        "\"\"\"\n",
        "\n"
      ],
      "execution_count": 0,
      "outputs": []
    },
    {
      "cell_type": "markdown",
      "metadata": {
        "colab_type": "text",
        "id": "I-A5Y-oo8Una"
      },
      "source": [
        "### P4.PY\n"
      ]
    },
    {
      "cell_type": "code",
      "metadata": {
        "colab_type": "code",
        "id": "UwNy5b028Unb",
        "colab": {
          "base_uri": "https://localhost:8080/",
          "height": 102
        },
        "outputId": "6d019b53-a841-4274-9feb-89b135629690"
      },
      "source": [
        "\"\"\"\n",
        "Build a Pyramid II\n",
        "\n",
        "Use a WHILE loop to print a pyramid of stars that looks like this:\n",
        "\n",
        "    *\n",
        "   ***\n",
        "  *****\n",
        " *******\n",
        "*********\n",
        "\n",
        "\"\"\"\n",
        "def triangle(n): \n",
        "      \n",
        "    # number of spaces \n",
        "    k = 2*n - 2\n",
        "  \n",
        "    # outer loop to handle number of rows \n",
        "    for i in range(0, n): \n",
        "      \n",
        "        # inner loop to handle number spaces \n",
        "        # values changing acc. to requirement \n",
        "        for j in range(0, k): \n",
        "            print(end=\" \") \n",
        "      \n",
        "        # decrementing k after each loop \n",
        "        k = k - 1\n",
        "      \n",
        "        # inner loop to handle number of columns \n",
        "        # values changing acc. to outer loop \n",
        "        for j in range(0, i+1): \n",
        "          \n",
        "            # printing stars \n",
        "            print(\"* \", end=\"\") \n",
        "      \n",
        "        # ending line after each row \n",
        "        print(\"\\r\") \n",
        "  \n",
        "n = 5\n",
        "triangle(n) "
      ],
      "execution_count": 18,
      "outputs": [
        {
          "output_type": "stream",
          "text": [
            "        * \r\n",
            "       * * \r\n",
            "      * * * \r\n",
            "     * * * * \r\n",
            "    * * * * * \r\n"
          ],
          "name": "stdout"
        }
      ]
    },
    {
      "cell_type": "markdown",
      "metadata": {
        "id": "wtaxsnSST-aH",
        "colab_type": "text"
      },
      "source": [
        "\n",
        "\n",
        "### P5.PY\n",
        "\n",
        "\n"
      ]
    },
    {
      "cell_type": "code",
      "metadata": {
        "id": "fiYt3OQrT-aI",
        "colab_type": "code",
        "colab": {
          "base_uri": "https://localhost:8080/",
          "height": 187
        },
        "outputId": "082c7e16-dd0f-4cda-bae6-ff7735e4762c"
      },
      "source": [
        "\"\"\"\n",
        "Build a Diamond I\n",
        "\n",
        "Use a FOR loop to print a diamond of stars that looks like this:\n",
        "\n",
        "    *\n",
        "   ***\n",
        "  *****\n",
        " *******\n",
        "*********\n",
        " *******\n",
        "  *****\n",
        "   ***\n",
        "    *\n",
        "\"\"\"\n",
        "\n",
        "max_ = 9\n",
        "\n",
        "for i in range(1, 10, 2):\n",
        "  diff = int((max_ - i) / 2)\n",
        "  spaces = [\" \"] * diff\n",
        "  stars = [\"*\"] * i\n",
        "  print(\"\".join(spaces) + \"\".join(stars) + \"\".join(spaces))\n",
        "\n",
        "for i in range(9, 0, -2):\n",
        "  diff = int((max_ - i) / 2)\n",
        "  spaces = [\" \"] * diff\n",
        "  stars = [\"*\"] * i\n",
        "  print(\"\".join(spaces) + \"\".join(stars) + \"\".join(spaces))\n"
      ],
      "execution_count": 15,
      "outputs": [
        {
          "output_type": "stream",
          "text": [
            "    *    \n",
            "   ***   \n",
            "  *****  \n",
            " ******* \n",
            "*********\n",
            "*********\n",
            " ******* \n",
            "  *****  \n",
            "   ***   \n",
            "    *    \n"
          ],
          "name": "stdout"
        }
      ]
    },
    {
      "cell_type": "markdown",
      "metadata": {
        "colab_type": "text",
        "id": "l7AOi4Xa8Une"
      },
      "source": [
        "### P6.PY"
      ]
    },
    {
      "cell_type": "code",
      "metadata": {
        "colab_type": "code",
        "id": "oK7nfy_D8Unj",
        "colab": {}
      },
      "source": [
        "\"\"\"\n",
        "Build a Diamond II\n",
        "\n",
        "Use a WHILE loop to print a diamond of stars that looks like this:\n",
        "\n",
        "    *\n",
        "   ***\n",
        "  *****\n",
        " *******\n",
        "*********\n",
        " *******\n",
        "  *****\n",
        "   ***\n",
        "    *\n",
        "\"\"\"\n",
        "\n",
        "while i < 10:\n",
        "  diff = int((max_ - i) / 2)\n",
        "  spaces = [\" \"] * diff\n",
        "  stars = [\"*\"] * i\n",
        "  print(\"\".join(spaces) + \"\".join(stars) + \"\".join(spaces))\n",
        "  i+=1\n",
        "while i < 9:\n",
        "  diff = int((max_ - i) / 2)\n",
        "  spaces = [\" \"] * diff\n",
        "  stars = [\"*\"] * i\n",
        "  print(\"\".join(spaces) + \"\".join(stars) + \"\".join(spaces))\n",
        "  i+=1\n",
        "\n",
        "#unsure what I am doing wrong here...\n"
      ],
      "execution_count": 0,
      "outputs": []
    },
    {
      "cell_type": "markdown",
      "metadata": {
        "id": "pCsSUlIBT-aK",
        "colab_type": "text"
      },
      "source": [
        "## LOOP_CHALLENGES\n",
        "\n"
      ]
    },
    {
      "cell_type": "markdown",
      "metadata": {
        "id": "jwd1KZXKUTAc",
        "colab_type": "text"
      },
      "source": [
        "### P1.PY"
      ]
    },
    {
      "cell_type": "code",
      "metadata": {
        "id": "cKlAnBVhT-aL",
        "colab_type": "code",
        "colab": {
          "base_uri": "https://localhost:8080/",
          "height": 51
        },
        "outputId": "721bf12d-69a3-49a7-8c2a-4e60d018e09d"
      },
      "source": [
        "\"\"\"\n",
        "Valid Passwords\n",
        "\"\"\"\n",
        "\n",
        "# Check the validity of password input by users based on the below security requirements: At least 1 letter between [a-z] and 1 letter between [A-Z].\n",
        "\"\"\"\n",
        "# At least 1 letter between [a-z] and 1 letter between [A-Z].\n",
        "#At least 1 number between [0-9].\n",
        "At least 1 character from [$#@].\n",
        "Minimum length 6 characters.\n",
        "Maximum length 16 characters.\n",
        "\"\"\"\n",
        "\n",
        "\n",
        "# Hint: Look up the documentation for the \"re\" library and it's \".search()\" method.\n",
        "import re\n",
        "p = input(\"Input your password: \")\n",
        "flag = None\n",
        "\n",
        "for password in p:\n",
        "  if (len(p) not in range (6,16)):\n",
        "    flag = False\n",
        "    break\n",
        "  elif not re.search('[a-z]',p):\n",
        "    flag = False\n",
        "    break\n",
        "  elif not re.search('[A-Z]',p):\n",
        "    flag = False\n",
        "    break\n",
        "  elif not re.search('[0-9]',p):\n",
        "    flag = False\n",
        "    break\n",
        "  elif not re.search('[$#@]',p):\n",
        "    flag = False\n",
        "    break\n",
        "  else:\n",
        "    flag = True\n",
        "    print('Password valid')\n",
        "    break\n",
        "if flag == False:\n",
        "    print('Password Invalid')\n",
        "  \n"
      ],
      "execution_count": 5,
      "outputs": [
        {
          "output_type": "stream",
          "text": [
            "Input your password: a!\n",
            "Password Invalid\n"
          ],
          "name": "stdout"
        }
      ]
    },
    {
      "cell_type": "markdown",
      "metadata": {
        "id": "lDd1dMe5T-aN",
        "colab_type": "text"
      },
      "source": [
        "\n",
        "\n",
        "### P2.PY\n",
        "\n",
        "\n"
      ]
    },
    {
      "cell_type": "code",
      "metadata": {
        "id": "n8kuflOLT-aR",
        "colab_type": "code",
        "colab": {
          "base_uri": "https://localhost:8080/",
          "height": 68
        },
        "outputId": "4d72dae1-5cda-4f54-ec76-3a1a1130998b"
      },
      "source": [
        "\"\"\"\n",
        "Prime Numbers I\n",
        "\"\"\"\n",
        "\n",
        "# Check if a number input by a user is prime or not. If it is NOT a prime number, print out that it is not a prime number. If it IS a prime number, print out that it is a prime number and give an example of two of its factors. Hint: Prime numbers must be greater than 1.\n",
        "\n",
        "# Example of output for a NON-prime:\n",
        "# 12 is not a prime number\n",
        "# For example, 2 x 6 = 12\n",
        "\n",
        "\n",
        "\n",
        "user_input = input(\"Enter a number to check if it's prime: \")\n",
        "num = int(user_input)\n",
        "if num > 1:\n",
        "  for i in range (2,num):\n",
        "    if num % i == 0:\n",
        "      print(num,'is not a prime number')\n",
        "      print(i,'x',int((num/i)),'=',num)\n",
        "      break\n",
        "    else:\n",
        "      print(num,'is a prime number')\n",
        "\n"
      ],
      "execution_count": 14,
      "outputs": [
        {
          "output_type": "stream",
          "text": [
            "Enter a number to check if it's prime: 12\n",
            "12 is not a prime number\n",
            "2 x 6 = 12\n"
          ],
          "name": "stdout"
        }
      ]
    }
  ]
}