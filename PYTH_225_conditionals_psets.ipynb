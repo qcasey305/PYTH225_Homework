{
  "nbformat": 4,
  "nbformat_minor": 0,
  "metadata": {
    "colab": {
      "name": "PYTH 225 conditionals_psets.ipynb",
      "provenance": [],
      "collapsed_sections": [
        "gijpYMCLV00L",
        "c70y61m1Vtn3",
        "zayFQdU7Vto2"
      ],
      "include_colab_link": true
    },
    "kernelspec": {
      "name": "python3",
      "display_name": "Python 3"
    }
  },
  "cells": [
    {
      "cell_type": "markdown",
      "metadata": {
        "id": "view-in-github",
        "colab_type": "text"
      },
      "source": [
        "<a href=\"https://colab.research.google.com/github/qcasey305/PYTH225_Homework/blob/master/PYTH_225_conditionals_psets.ipynb\" target=\"_parent\"><img src=\"https://colab.research.google.com/assets/colab-badge.svg\" alt=\"Open In Colab\"/></a>"
      ]
    },
    {
      "cell_type": "markdown",
      "metadata": {
        "id": "FiL9pv11VtnR",
        "colab_type": "text"
      },
      "source": [
        "#  CONDITIONALS\n",
        "\n",
        "\n"
      ]
    },
    {
      "cell_type": "markdown",
      "metadata": {
        "id": "gijpYMCLV00L",
        "colab_type": "text"
      },
      "source": [
        "## WEATHER"
      ]
    },
    {
      "cell_type": "markdown",
      "metadata": {
        "id": "KL7ytXn4V2WB",
        "colab_type": "text"
      },
      "source": [
        "### P1.PY"
      ]
    },
    {
      "cell_type": "code",
      "metadata": {
        "id": "e32ChHBAVtnU",
        "colab_type": "code",
        "outputId": "67bbf072-e23f-43bf-ca4a-9d90748f27a7",
        "colab": {
          "base_uri": "https://localhost:8080/",
          "height": 34
        }
      },
      "source": [
        "\"\"\"\n",
        "Weather I - Do you need boots?\n",
        "\"\"\"\n",
        "\n",
        "# Use the values of the vars defined below to ouput the correct contextual answer to the questions below. (Note: The variables themselves ARE the questions.)\n",
        "\n",
        "# Example:\n",
        "## am_i_hungry = False\n",
        "## am_i_tired = True\n",
        "## do_i_need_to_stay_awake = False\n",
        "\n",
        "## should_i_drink_coffee_now = am_i_tired and do_i_need_to_stay_awake\n",
        "\n",
        "## ^^ This ^^ evaluates to False. If you're tired and don't need to stay awake, you don't need to drink coffee!\n",
        "\n",
        "\n",
        "is_it_raining = True\n",
        "is_it_snowing = False\n",
        "\n",
        "\n",
        "do_i_need_snow_boots = (is_it_snowing == True)\n",
        "can_i_skip_snow_boots = (is_it_snowing == False)\n",
        "do_i_need_rain_boots = (is_it_raining = True)\n",
        "can_i_skip_rain_boots = (is_it_raining = False)"
      ],
      "execution_count": 0,
      "outputs": [
        {
          "output_type": "stream",
          "text": [
            "False\n"
          ],
          "name": "stdout"
        }
      ]
    },
    {
      "cell_type": "markdown",
      "metadata": {
        "id": "t9cxGL-8VtnX",
        "colab_type": "text"
      },
      "source": [
        "\n",
        "\n",
        "### P2.PY\n",
        "\n",
        "\n"
      ]
    },
    {
      "cell_type": "code",
      "metadata": {
        "id": "y80DTzliVtnY",
        "colab_type": "code",
        "outputId": "d121fe6f-0499-4478-dec0-c8e94d3e82b8",
        "colab": {
          "base_uri": "https://localhost:8080/",
          "height": 34
        }
      },
      "source": [
        "\"\"\"\n",
        "Weather II - Precipitation\n",
        "\"\"\"\n",
        "\n",
        "# Repeat the same process as p1, using this new set of variables.\n",
        "\n",
        "sunny = True\n",
        "raining = True\n",
        "snowing = False\n",
        "\n",
        "is_it_sunny = (sunny == True)\n",
        "is_there_precipitation = (raining == True) or (snowing == True)\n",
        "# better way: is_there_precipitation = raining or snowing\n",
        "is_it_sleeting = (raining == True) and (snowing == True)\n",
        "# OR = snowing and raining\n",
        "is_there_rainbow = (raining == True) and (sunny == True)\n",
        "# OR = sunny and raining"
      ],
      "execution_count": 0,
      "outputs": [
        {
          "output_type": "stream",
          "text": [
            "True\n"
          ],
          "name": "stdout"
        }
      ]
    },
    {
      "cell_type": "markdown",
      "metadata": {
        "id": "777sx1WCVtno",
        "colab_type": "text"
      },
      "source": [
        "\n",
        "\n",
        "### P3.PY\n",
        "\n",
        "\n"
      ]
    },
    {
      "cell_type": "code",
      "metadata": {
        "id": "9dNGqX2wVtnp",
        "colab_type": "code",
        "outputId": "83b1e635-7208-4ffd-b941-65bc9530eef6",
        "colab": {
          "base_uri": "https://localhost:8080/",
          "height": 34
        }
      },
      "source": [
        "\"\"\"\n",
        "Weather III - Describe Conditions\n",
        "\"\"\"\n",
        "\n",
        "# Repeat the same process as p1, using this new set of variables.\n",
        "\n",
        "\n",
        "is_it_warm = True\n",
        "is_it_humid = True\n",
        "is_it_cold = False\n",
        "is_it_icy = False\n",
        "is_it_foggy = False\n",
        "is_it_windy = False\n",
        "is_it_overcast = True\n",
        "\n",
        "\n",
        "is_it_summer_weather = (is_it_warm == True) or (is_it_humid == True)\n",
        "is_rain_coming = (is_it_overcast == True) or (is_it_foggy == True)\n",
        "is_it_muggy = (is_it_humid == True) or (is_it_foggy == True)\n",
        "do_i_need_coat = (is_it_cold == True) or (is_it_windy == True)\n"
      ],
      "execution_count": 0,
      "outputs": [
        {
          "output_type": "stream",
          "text": [
            "False\n"
          ],
          "name": "stdout"
        }
      ]
    },
    {
      "cell_type": "markdown",
      "metadata": {
        "id": "c70y61m1Vtn3",
        "colab_type": "text"
      },
      "source": [
        "## LOGIC\n",
        "\n",
        "\n"
      ]
    },
    {
      "cell_type": "markdown",
      "metadata": {
        "id": "6IGtJU8oV5a8",
        "colab_type": "text"
      },
      "source": [
        "### P1.PY"
      ]
    },
    {
      "cell_type": "code",
      "metadata": {
        "id": "8dx3WRHBVtn4",
        "colab_type": "code",
        "outputId": "c716cf95-6614-4688-ea13-7309b69ca18d",
        "colab": {
          "base_uri": "https://localhost:8080/",
          "height": 34
        }
      },
      "source": [
        "\"\"\"\n",
        "Calculate Grade\n",
        "\"\"\"\n",
        "\n",
        "grade = 15  # expect this to be a number\n",
        "\n",
        "# write a program that will print the \"letter\"\n",
        "# equivalent of the grade, for example:\n",
        "# when grade = 90 # -> expect A\n",
        "# when grade = 80 # -> expect B\n",
        "# when grade = 70 # -> expect C\n",
        "# when grade = 60 # -> expect D\n",
        "# when grade = 54 # -> expect F\n",
        "# when grade = -10 # -> expect Error\n",
        "# when grade = 10000 # -> expect Error\n",
        "# when grade = \"lol skool sucks\" # -> expect Error\n",
        "\n",
        "if type (grade) == str:\n",
        "\t print('Error')\n",
        "elif grade < 60:\n",
        "\tprint('F')\n",
        "elif grade < 70:\n",
        "\tprint('D')\n",
        "elif grade < 80:\n",
        "\tprint('C')\n",
        "elif grade < 90:\n",
        "\tprint('B')\n",
        "elif grade <= 100:\n",
        "\tprint('A')\n",
        "elif grade < 0:\n",
        "\tprint('Error')\n",
        "elif grade > 100:\n",
        "\tprint('Error')\n",
        "\n",
        "\n"
      ],
      "execution_count": 0,
      "outputs": [
        {
          "output_type": "stream",
          "text": [
            "F\n"
          ],
          "name": "stdout"
        }
      ]
    },
    {
      "cell_type": "markdown",
      "metadata": {
        "id": "HLfJLQFKVtoK",
        "colab_type": "text"
      },
      "source": [
        "\n",
        "\n",
        "### P2.PY\n",
        "\n",
        "\n"
      ]
    },
    {
      "cell_type": "code",
      "metadata": {
        "id": "g3fT3CxqVtoO",
        "colab_type": "code",
        "outputId": "674bbb6a-c809-451e-8f39-e979c62a0480",
        "colab": {
          "base_uri": "https://localhost:8080/",
          "height": 34
        }
      },
      "source": [
        "\"\"\"\n",
        "Sign of Product\n",
        "\"\"\"\n",
        "\n",
        "# Given three numbers, a, b, c, without multiplying, determine the sign of their product.\n",
        "\n",
        "# EXAMPLE: a = -5, b = 6, c = -4, print 1\n",
        "\n",
        "# EXAMPLE: a = 5, b = 6, c = -4, print -1\n",
        "\n",
        "a = 1\n",
        "b = -3\n",
        "c = 6\n",
        "\n",
        "if a < 0 and b < 0 and c < 0:\n",
        "  print(-1)\n",
        "\n",
        "elif a < 0 and b < 0 and c > 0:\n",
        "  print(1)\n",
        "\n",
        "elif a < 0 and b > 0 and c < 0:\n",
        "  print(-1)\n",
        "\n",
        "elif a < 0 and b > 0 and c > 0:\n",
        "  print(-1)\n",
        "\n",
        "elif a > 0 and b > 0 and c > 0:\n",
        "  print(1)\n",
        "\n",
        "elif a > 0 and b > 0 and c < 0:\n",
        "  print(-1)\n",
        "\n",
        "elif a > 0 and b < 0 and c > 0:\n",
        "  print(-1)\n",
        "\n",
        "elif a > 0 and b < 0 and c < 0:\n",
        "  print(1)\n",
        "\n",
        "\"\"\"\n",
        "- - -\n",
        "- - +\n",
        "- + -\n",
        "- + + \n",
        "\n",
        "\n",
        "+ + +\n",
        "+ + -\n",
        "+ - + \n",
        "+ - - \n",
        "\n",
        "i think these are all the options, but if not the idea here was to go through each option rather than multiply\n",
        "\"\"\""
      ],
      "execution_count": 101,
      "outputs": [
        {
          "output_type": "stream",
          "text": [
            "-1\n"
          ],
          "name": "stdout"
        }
      ]
    },
    {
      "cell_type": "markdown",
      "metadata": {
        "id": "eUuhYKriVtoS",
        "colab_type": "text"
      },
      "source": [
        "\n",
        "\n",
        "### P3.PY\n",
        "\n",
        "\n"
      ]
    },
    {
      "cell_type": "code",
      "metadata": {
        "id": "gtAMAAaYVtoT",
        "colab_type": "code",
        "outputId": "5ffc99a3-15ca-4f73-c057-d8ecfc42c413",
        "colab": {
          "base_uri": "https://localhost:8080/",
          "height": 34
        }
      },
      "source": [
        "\"\"\"\n",
        "Any Uppercase\n",
        "\"\"\"\n",
        "\n",
        "# Given a string str, determine if there are any uppercase values in it. Use only conditional statements and string methods (you may have to look some up!)\n",
        "\n",
        "# EXAMPLE: str = \"teSt\", print True\n",
        "\n",
        "\n",
        "string = 'HeyWhatIsUp'\n",
        "print(string.islower()) \n",
        "\n",
        "\n",
        "#.islower() returns 'False' if all values in string are NOT lowercase; opposite would be .isupper() \n",
        "#I know this isn't printing 'true,' but it's a work around..."
      ],
      "execution_count": 0,
      "outputs": [
        {
          "output_type": "stream",
          "text": [
            "False\n"
          ],
          "name": "stdout"
        }
      ]
    },
    {
      "cell_type": "markdown",
      "metadata": {
        "id": "wG8CE6QTVtoW",
        "colab_type": "text"
      },
      "source": [
        "\n",
        "\n",
        "### P4.PY\n",
        "\n",
        "\n"
      ]
    },
    {
      "cell_type": "code",
      "metadata": {
        "id": "xZ5Mt4jSVtoX",
        "colab_type": "code",
        "outputId": "33303e46-f64e-4252-bb98-4fd492b6caa5",
        "colab": {
          "base_uri": "https://localhost:8080/",
          "height": 34
        }
      },
      "source": [
        "\"\"\"\n",
        "Empty Strings\n",
        "\"\"\"\n",
        "\n",
        "# Given any empty string, of the form:\n",
        "\n",
        "# ''\n",
        "# ' '\n",
        "# '  '\n",
        "# any other num of spaces...\n",
        "\n",
        "# determine if the str is empty or not (print True or False). Hint: You'll need to look up how to remove trailing spaces from a string.\n",
        "\n",
        "\n",
        "a = '   '\n",
        "a = a.strip()\n",
        "print (bool(a))\n"
      ],
      "execution_count": 0,
      "outputs": [
        {
          "output_type": "stream",
          "text": [
            "False\n"
          ],
          "name": "stdout"
        }
      ]
    },
    {
      "cell_type": "markdown",
      "metadata": {
        "id": "WlgQdALoVtof",
        "colab_type": "text"
      },
      "source": [
        "\n",
        "\n",
        "### P5.PY\n",
        "\n",
        "\n"
      ]
    },
    {
      "cell_type": "code",
      "metadata": {
        "id": "7_k9rebsVtog",
        "colab_type": "code",
        "colab": {
          "base_uri": "https://localhost:8080/",
          "height": 85
        },
        "outputId": "638d108e-9861-44a4-994d-ec7929de67dd"
      },
      "source": [
        "\"\"\"\n",
        "truthTableEvaluator\n",
        "\"\"\"\n",
        "\n",
        "# Given the following inputs:\n",
        "\n",
        "#logical AND, conjunction\n",
        "from random import randint\n",
        "truth = [True, False]\n",
        "p = truth[randint(0,1)]\n",
        "q = truth[randint(0,1)]\n",
        "\n",
        "if p == True and q == True:\n",
        "  print(True)\n",
        "else:\n",
        "  print(False)\n",
        "\n",
        "#logical OR, disjunction\n",
        "from random import randint\n",
        "truth1 = [True, False]\n",
        "p1 = truth[randint(0,1)]\n",
        "q1 = truth[randint(0,1)]\n",
        "\n",
        "if p1 == True or q1 == True:\n",
        "  print(True)\n",
        "else:\n",
        "  print(False)\n",
        "\n",
        "#logical conditional, implication\n",
        "\n",
        "from random import randint\n",
        "truth2 = [True, False]\n",
        "p2 = truth[randint(0,1)]\n",
        "q2 = truth[randint(0,1)]\n",
        "\n",
        "if p2 == True and q2 == False:\n",
        "  print(False)\n",
        "else:\n",
        "  print(True)\n",
        "\n",
        "#biconditional\n",
        "\n",
        "from random import randint\n",
        "truth3 = [True, False]\n",
        "p3 = truth[randint(0,1)]\n",
        "q3 = truth[randint(0,1)]\n",
        "\n",
        "if p3 == True and q3 == True:\n",
        "  print(True)\n",
        "elif p3 == False and q3 == False:\n",
        "  print(True)\n",
        "else:\n",
        "  print(False)\n",
        "\n",
        "# P = # True or False\n",
        "# Q = # True or False\n",
        "# op = # '^' (logical AND, conjunction) requires both p and q to be True for the result to be True\n",
        "#      # OR, 'v' (logical OR, disjunction) requires only one premise to be True for the result to be True.\n",
        "#      # OR, '->' (logical conditional, implication)\n",
        "#        (symbolically: p → q), also known as “if-then”, results True in all cases except the case T → F.\n",
        "#      # OR, '<->' (biconditional) In other words, it’s an if-then statement where the converse is also true.\n",
        "# determine the correct outcome.\n",
        "\n",
        "# https://medium.com/i-math/intro-to-truth-tables-boolean-algebra-73b331dd9b94\n",
        "\n",
        "\n"
      ],
      "execution_count": 88,
      "outputs": [
        {
          "output_type": "stream",
          "text": [
            "True\n",
            "True\n",
            "True\n",
            "False\n"
          ],
          "name": "stdout"
        }
      ]
    },
    {
      "cell_type": "markdown",
      "metadata": {
        "id": "zayFQdU7Vto2",
        "colab_type": "text"
      },
      "source": [
        "## RANDOM NUMBERS\n",
        "\n",
        "\n",
        "\n",
        "\n"
      ]
    },
    {
      "cell_type": "markdown",
      "metadata": {
        "id": "gtAK4fQAV9BC",
        "colab_type": "text"
      },
      "source": [
        "### P1.PY"
      ]
    },
    {
      "cell_type": "code",
      "metadata": {
        "id": "_dlFvP4QVto3",
        "colab_type": "code",
        "outputId": "78bafdb1-1254-4332-d286-3aefa80eb8fb",
        "colab": {
          "base_uri": "https://localhost:8080/",
          "height": 34
        }
      },
      "source": [
        "\"\"\"\n",
        "Generate Traffic Light\n",
        "\"\"\"\n",
        "\n",
        "# import python randomint package\n",
        "from random import randint\n",
        "\n",
        "# generates a random number from 1 to 3\n",
        "light = randint(1,3)\n",
        "if light == 1:\n",
        "  print('red')\n",
        "elif light == 2:\n",
        "  print('green')\n",
        "elif light == 3:\n",
        "  print('yellow')\n",
        "\n",
        "\n",
        "# if 1, print 'red'\n",
        "# if 2, print 'green',\n",
        "# if 3, print 'yellow'\n"
      ],
      "execution_count": 0,
      "outputs": [
        {
          "output_type": "stream",
          "text": [
            "red\n"
          ],
          "name": "stdout"
        }
      ]
    },
    {
      "cell_type": "markdown",
      "metadata": {
        "id": "nO0LSd8SVto5",
        "colab_type": "text"
      },
      "source": [
        "\n",
        "\n",
        "### P2.PY\n",
        "\n",
        "\n"
      ]
    },
    {
      "cell_type": "code",
      "metadata": {
        "id": "Dp5jFc2fVtpF",
        "colab_type": "code",
        "outputId": "2c8cc294-624d-4cca-a82d-1ef63c18bd96",
        "colab": {
          "base_uri": "https://localhost:8080/",
          "height": 34
        }
      },
      "source": [
        "\"\"\"\n",
        "Generate Phone Number w/Area Code\n",
        "\"\"\"\n",
        "\n",
        "from random import randint\n",
        "area_code_options = ['646', '718', '212']\n",
        "area_code = area_code_options[randint(0,2)]\n",
        "\n",
        "middle_digits = randint(100,999)\n",
        "\n",
        "last_digits = randint(1000,9999)\n",
        "\n",
        "print('1','-',area_code,'-',str(middle_digits),'-',str(last_digits))\n",
        "\n",
        "\n",
        "\n",
        "# Generate a random phone number using these SPECS:\n",
        "### Should be a string in this format: 1-718-786-2825\n",
        "### Must randomly choose one of these area codes: 646, 718, 212\n",
        "\n",
        "\n"
      ],
      "execution_count": 72,
      "outputs": [
        {
          "output_type": "stream",
          "text": [
            "1 - 646 - 499 - 7990\n"
          ],
          "name": "stdout"
        }
      ]
    },
    {
      "cell_type": "markdown",
      "metadata": {
        "id": "gRweE3nDVtpK",
        "colab_type": "text"
      },
      "source": [
        "## RPS\n",
        "\n",
        "\n"
      ]
    },
    {
      "cell_type": "markdown",
      "metadata": {
        "id": "IFUwrDumV_Vn",
        "colab_type": "text"
      },
      "source": [
        "### P1.PY"
      ]
    },
    {
      "cell_type": "code",
      "metadata": {
        "id": "sYTmAYzDVtpL",
        "colab_type": "code",
        "outputId": "9c67f932-ea7a-4f9d-d9a6-776c5d861614",
        "colab": {
          "base_uri": "https://localhost:8080/",
          "height": 34
        }
      },
      "source": [
        "\"\"\"\n",
        "Play RPS\n",
        "\"\"\"\n",
        "\n",
        "p1 = 'r'  # or 'p' or 's'\n",
        "p2 = 'r'  # or 'p' or 's'\n",
        "\n",
        "# Given a p1 and p2\n",
        "# print 1 if p1 has won\n",
        "# print 2 if p2 has won\n",
        "# print 0 if tie\n",
        "# print -1 if invalid input\n",
        "# expects both p1 and p2 inputs to be either\n",
        "# \"r\", \"p\", or \"s\"\n",
        "\n",
        "p1 = 's'\n",
        "p2 = 'r'\n",
        "\n",
        "if p1 == p2:\n",
        "        print(0)\n",
        "elif p1 == \"r\":\n",
        "  if p2 == \"p\":\n",
        "            print(2)\n",
        "  else:\n",
        "      print(1)\n",
        "elif p1 == \"p\":\n",
        "        if p2 == \"s\":\n",
        "            print(2)\n",
        "        else:\n",
        "            print(1)\n",
        "elif p1 == \"s\":\n",
        "        if p2 == \"r\":\n",
        "            print(2)\n",
        "        else:\n",
        "            print(1)\n",
        "else:\n",
        "  print(-1)"
      ],
      "execution_count": 0,
      "outputs": [
        {
          "output_type": "stream",
          "text": [
            "2\n"
          ],
          "name": "stdout"
        }
      ]
    },
    {
      "cell_type": "markdown",
      "metadata": {
        "id": "fp77AykMVtpN",
        "colab_type": "text"
      },
      "source": [
        "\n",
        "\n",
        "### P2.PY\n",
        "\n",
        "\n"
      ]
    },
    {
      "cell_type": "code",
      "metadata": {
        "id": "mKMaxGH8VtpO",
        "colab_type": "code",
        "outputId": "ed20c777-8049-4cb3-d903-e628f9a4d84e",
        "colab": {
          "base_uri": "https://localhost:8080/",
          "height": 34
        }
      },
      "source": [
        "\"\"\"\n",
        "Play RPS w/Computer\n",
        "\"\"\"\n",
        "from random import randint\n",
        "\n",
        "options = ['r', 'p', 's']\n",
        "\n",
        "p1 = options[randint(0,2)]\n",
        "\n",
        "p2 = options[randint(0,2)]\n",
        "\n",
        "if p1 == p2:\n",
        "        print(0)\n",
        "elif p1 == \"r\":\n",
        "  if p2 == \"p\":\n",
        "            print(2)\n",
        "  else:\n",
        "      print(1)\n",
        "elif p1 == \"p\":\n",
        "        if p2 == \"s\":\n",
        "            print(2)\n",
        "        else:\n",
        "            print(1)\n",
        "elif p1 == \"s\":\n",
        "        if p2 == \"r\":\n",
        "            print(2)\n",
        "        else:\n",
        "            print(1)\n",
        "else:\n",
        "  print(-1)\n",
        "\n",
        "# Given a p1 and p2\n",
        "# print 1 if p1 has won\n",
        "# print 2 if p2 has won\n",
        "# print 0 if tie\n",
        "# print -1 if invalid input\n",
        "# expects both p1 and p2 inputs to be either\n",
        "# \"r\", \"p\", or \"s\"\n"
      ],
      "execution_count": 0,
      "outputs": [
        {
          "output_type": "stream",
          "text": [
            "2\n"
          ],
          "name": "stdout"
        }
      ]
    },
    {
      "cell_type": "markdown",
      "metadata": {
        "id": "INgOFvdoVtpU",
        "colab_type": "text"
      },
      "source": [
        "\n",
        "\n",
        "### P3.PY\n",
        "\n",
        "\n"
      ]
    },
    {
      "cell_type": "code",
      "metadata": {
        "id": "vhAAHjMSVtpV",
        "colab_type": "code",
        "outputId": "c3db59a9-e404-439f-8b71-ab56b71e3443",
        "colab": {
          "base_uri": "https://localhost:8080/",
          "height": 68
        }
      },
      "source": [
        "\"\"\"\n",
        "Play RPS w/Input\n",
        "\"\"\"\n",
        "\n",
        "p1 = input('Choose r (rock), p (paper), or s (scissors)!')\n",
        "\n",
        "p2 = input('Choose r (rock), p (paper), or s (scissors)!')\n",
        "\n",
        "if p1 == p2:\n",
        "        print(0)\n",
        "elif p1 == \"r\":\n",
        "  if p2 == \"p\":\n",
        "            print(2)\n",
        "  else:\n",
        "      print(1)\n",
        "elif p1 == \"p\":\n",
        "        if p2 == \"s\":\n",
        "            print(2)\n",
        "        else:\n",
        "            print(1)\n",
        "elif p1 == \"s\":\n",
        "        if p2 == \"r\":\n",
        "            print(2)\n",
        "        else:\n",
        "            print(1)\n",
        "else:\n",
        "  print(-1)\n",
        "\n",
        "# Given a p1 and p2\n",
        "# print 1 if p1 has won\n",
        "# print 2 if p2 has won\n",
        "# print 0 if tie\n",
        "# print -1 if invalid input\n",
        "# expects both p1 and p2 inputs to be either\n",
        "# \"r\", \"p\", or \"s\"\n"
      ],
      "execution_count": 0,
      "outputs": [
        {
          "output_type": "stream",
          "text": [
            "Choose r (rock), p (paper), or s (scissors)!s\n",
            "Choose r (rock), p (paper), or s (scissors)!r\n",
            "2\n"
          ],
          "name": "stdout"
        }
      ]
    },
    {
      "cell_type": "markdown",
      "metadata": {
        "id": "SUqNu57OVtpY",
        "colab_type": "text"
      },
      "source": [
        "\n",
        "\n",
        "### P4.PY\n",
        "\n",
        "\n"
      ]
    },
    {
      "cell_type": "code",
      "metadata": {
        "id": "Vmlr5AqSVtpY",
        "colab_type": "code",
        "outputId": "74553541-305e-4178-8541-d9f14032b98d",
        "colab": {
          "base_uri": "https://localhost:8080/",
          "height": 51
        }
      },
      "source": [
        "\"\"\"\n",
        "Play RPS against Computer\n",
        "\"\"\"\n",
        "\n",
        "p1 = None  # from user input - we still want validation from above!\n",
        "p2 = None  # randomly generated against computer\n",
        "\n",
        "# Given a p1 and p2\n",
        "# print 1 if p1 has won\n",
        "# print 2 if p2 has won\n",
        "# print 0 if tie\n",
        "# print -1 if invalid input\n",
        "# expects both p1 and p2 inputs to be either\n",
        "# \"r\", \"p\", or \"s\"\n",
        "\n",
        "\n",
        "from random import randint\n",
        "\n",
        "options = ['r', 'p', 's']\n",
        "\n",
        "p2 = options[randint(0,2)]\n",
        "\n",
        "p1 = input('Choose r (rock), p (paper), or s (scissors)!')\n",
        "\n",
        "if p1 == p2:\n",
        "        print(0)\n",
        "elif p1 == \"r\":\n",
        "  if p2 == \"p\":\n",
        "            print(2)\n",
        "  else:\n",
        "      print(1)\n",
        "elif p1 == \"p\":\n",
        "        if p2 == \"s\":\n",
        "            print(2)\n",
        "        else:\n",
        "            print(1)\n",
        "elif p1 == \"s\":\n",
        "        if p2 == \"r\":\n",
        "            print(2)\n",
        "        else:\n",
        "            print(1)\n",
        "else:\n",
        "  print(-1)\n"
      ],
      "execution_count": 0,
      "outputs": [
        {
          "output_type": "stream",
          "text": [
            "Choose r (rock), p (paper), or s (scissors)!p\n",
            "2\n"
          ],
          "name": "stdout"
        }
      ]
    },
    {
      "cell_type": "markdown",
      "metadata": {
        "id": "F_7aaMtoVtpt",
        "colab_type": "text"
      },
      "source": [
        "\n",
        "\n",
        "### P5.PY\n",
        "\n",
        "\n"
      ]
    },
    {
      "cell_type": "code",
      "metadata": {
        "id": "U24EGu3VVtpu",
        "colab_type": "code",
        "outputId": "705a5395-8997-4953-8a74-9d6077b2b45d",
        "colab": {
          "base_uri": "https://localhost:8080/",
          "height": 51
        }
      },
      "source": [
        "\"\"\"\n",
        "Play RPS w/Bad Input\n",
        "\"\"\"\n",
        "\n",
        "p1 = None  # can be invalid!\n",
        "p2 = None  # can be invalid!\n",
        "\n",
        "\"\"\"\n",
        "This is the same as the original RPS problem, \n",
        "except that cannot expect the input to be valid. \n",
        "While we *want* `r` or `p` or `s`, there is a possibility \n",
        "that input can be anything like...\n",
        "\n",
        "* `ROCK` (all caps)\n",
        "* `R` (`r` but capitalized)\n",
        "* `PAPrrRR` (incorrectly spelled, upper/lowercased)\n",
        "\n",
        "Implement conditional statements that will sanitize the \n",
        "user input or let user know that input is invalid.\n",
        "\"\"\"\n",
        "\n",
        "\n",
        "from random import randint\n",
        "\n",
        "options = ['r', 'p', 's']\n",
        "\n",
        "p2 = options[randint(0,2)]\n",
        "\n",
        "p1 = input('Rock, paper, scissors?')\n",
        "if p1.lower().strip() == 'rock' or p1.lower().strip() == 'r':\n",
        "\tp1 = 'r'\n",
        "elif p1.lower().strip() == 'paper' or p1.lower().strip() == 'p':\n",
        "\tp1 = 'p'\n",
        "elif p1.lower().strip() == 'scissor' or p1.lower().strip() == 's':\n",
        "\tp1 = 's'\n",
        "\n",
        "if p1 == p2:\n",
        "        print(0)\n",
        "elif p1 == \"r\":\n",
        "  if p2 == \"p\":\n",
        "            print(2)\n",
        "  else:\n",
        "      print(1)\n",
        "elif p1 == \"p\":\n",
        "        if p2 == \"s\":\n",
        "            print(2)\n",
        "        else:\n",
        "            print(1)\n",
        "elif p1 == \"s\":\n",
        "        if p2 == \"r\":\n",
        "            print(2)\n",
        "        else:\n",
        "            print(1)\n",
        "else:\n",
        "  print(-1)"
      ],
      "execution_count": 0,
      "outputs": [
        {
          "output_type": "stream",
          "text": [
            "Rock, paper, scissors?ROCK\n",
            "1\n"
          ],
          "name": "stdout"
        }
      ]
    }
  ]
}